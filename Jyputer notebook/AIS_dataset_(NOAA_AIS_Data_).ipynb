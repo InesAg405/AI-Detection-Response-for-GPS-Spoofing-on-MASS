{
  "nbformat": 4,
  "nbformat_minor": 0,
  "metadata": {
    "colab": {
      "provenance": []
    },
    "kernelspec": {
      "name": "python3",
      "display_name": "Python 3"
    },
    "language_info": {
      "name": "python"
    }
  },
  "cells": [
    {
      "cell_type": "code",
      "execution_count": null,
      "metadata": {
        "colab": {
          "base_uri": "https://localhost:8080/"
        },
        "id": "7cTSTTEs6drA",
        "outputId": "8d9d9285-b9da-42d5-d93d-954a83257ce4"
      },
      "outputs": [
        {
          "output_type": "stream",
          "name": "stdout",
          "text": [
            "        MMSI         BaseDateTime       LAT        LON   SOG    COG  Heading\n",
            "0  538008468  2020-01-01T00:00:00  38.25802  -76.29487  14.9  338.6    337.0\n",
            "1  368120510  2020-01-01T00:00:00  27.58610  -82.75991   0.0   58.6    511.0\n",
            "2  368063930  2020-01-01T00:00:00  40.71045  -73.97588  11.2  208.9    207.0\n",
            "3  368106220  2020-01-01T00:00:00  38.53932  -90.25523   0.2  161.8     31.0\n",
            "4  367336180  2020-01-01T00:00:00  56.02945 -132.68705   9.0  325.5    511.0\n",
            "<class 'pandas.core.frame.DataFrame'>\n",
            "RangeIndex: 5401 entries, 0 to 5400\n",
            "Data columns (total 7 columns):\n",
            " #   Column        Non-Null Count  Dtype  \n",
            "---  ------        --------------  -----  \n",
            " 0   MMSI          5401 non-null   int64  \n",
            " 1   BaseDateTime  5401 non-null   object \n",
            " 2   LAT           5401 non-null   float64\n",
            " 3   LON           5401 non-null   float64\n",
            " 4   SOG           5401 non-null   float64\n",
            " 5   COG           5401 non-null   float64\n",
            " 6   Heading       5401 non-null   float64\n",
            "dtypes: float64(5), int64(1), object(1)\n",
            "memory usage: 295.5+ KB\n",
            "None\n"
          ]
        }
      ],
      "source": [
        "import pandas as pd\n",
        "\n",
        "\n",
        "file_path = \"/content/drive/MyDrive/F AIS.csv\"\n",
        "ais_df = pd.read_csv(file_path)\n",
        "\n",
        "\n",
        "required_columns = [\"MMSI\", \"BaseDateTime\", \"LAT\", \"LON\", \"SOG\", \"COG\", \"Heading\"]\n",
        "gps_df = ais_df[required_columns]\n",
        "\n",
        "\n",
        "print(gps_df.head())\n",
        "print(gps_df.info())\n"
      ]
    },
    {
      "cell_type": "markdown",
      "source": [
        "## Remove missing or invalid values:\n",
        "SOG (Speed Over Ground)\n",
        "0 – 30 knots (typical)\n",
        "*****\n",
        "COG (Course Over Ground)\n",
        "0° – 360°(normal values)\n"
      ],
      "metadata": {
        "id": "kzHe0TDNOLnj"
      }
    },
    {
      "cell_type": "code",
      "source": [
        "\n",
        "gps_df.dropna(inplace=True)\n",
        "\n",
        "\n",
        "gps_df = ais_df[(gps_df['SOG'] >= 0) &\n",
        "                (gps_df['LAT'].between(-90, 90)) &\n",
        "                (gps_df['LON'].between(-180, 180))]\n"
      ],
      "metadata": {
        "id": "ubxACdnz-m8P",
        "colab": {
          "base_uri": "https://localhost:8080/"
        },
        "outputId": "7288ebed-aaed-433b-f43b-a6249532ee2c"
      },
      "execution_count": null,
      "outputs": [
        {
          "output_type": "stream",
          "name": "stderr",
          "text": [
            "/tmp/ipython-input-3295658253.py:1: SettingWithCopyWarning: \n",
            "A value is trying to be set on a copy of a slice from a DataFrame\n",
            "\n",
            "See the caveats in the documentation: https://pandas.pydata.org/pandas-docs/stable/user_guide/indexing.html#returning-a-view-versus-a-copy\n",
            "  gps_df.dropna(inplace=True)\n"
          ]
        }
      ]
    },
    {
      "cell_type": "code",
      "source": [
        "\n",
        "gps_df.drop_duplicates(inplace=True)\n",
        "\n",
        "\n",
        "gps_df.drop_duplicates(subset=['MMSI', 'BaseDateTime', 'LAT', 'LON'], inplace=True)\n"
      ],
      "metadata": {
        "id": "XJq5vE-y-m-u"
      },
      "execution_count": null,
      "outputs": []
    },
    {
      "cell_type": "markdown",
      "source": [
        "##Convert timestamp and sort"
      ],
      "metadata": {
        "id": "RnndGDHzPK1K"
      }
    },
    {
      "cell_type": "code",
      "source": [
        "\n",
        "gps_df['BaseDateTime'] = pd.to_datetime(gps_df['BaseDateTime'])\n",
        "\n",
        "\n",
        "gps_df.sort_values(by=['MMSI', 'BaseDateTime'], inplace=True)\n"
      ],
      "metadata": {
        "id": "cgY62TQD-nBD"
      },
      "execution_count": null,
      "outputs": []
    },
    {
      "cell_type": "code",
      "source": [
        "print(gps_df.info())"
      ],
      "metadata": {
        "colab": {
          "base_uri": "https://localhost:8080/"
        },
        "id": "SeWdzwXj-nDV",
        "outputId": "d23b6441-bf3e-4f7f-f5a5-a3e46b34ba46"
      },
      "execution_count": null,
      "outputs": [
        {
          "output_type": "stream",
          "name": "stdout",
          "text": [
            "<class 'pandas.core.frame.DataFrame'>\n",
            "Index: 5401 entries, 3216 to 1079\n",
            "Data columns (total 7 columns):\n",
            " #   Column        Non-Null Count  Dtype         \n",
            "---  ------        --------------  -----         \n",
            " 0   MMSI          5401 non-null   int64         \n",
            " 1   BaseDateTime  5401 non-null   datetime64[ns]\n",
            " 2   LAT           5401 non-null   float64       \n",
            " 3   LON           5401 non-null   float64       \n",
            " 4   SOG           5401 non-null   float64       \n",
            " 5   COG           5401 non-null   float64       \n",
            " 6   Heading       5401 non-null   float64       \n",
            "dtypes: datetime64[ns](1), float64(5), int64(1)\n",
            "memory usage: 337.6 KB\n",
            "None\n"
          ]
        }
      ]
    },
    {
      "cell_type": "markdown",
      "source": [
        "## feature engineering"
      ],
      "metadata": {
        "id": "6gZ7Gq8PS-zk"
      }
    },
    {
      "cell_type": "code",
      "source": [
        "import numpy as np\n",
        "\n",
        "# Haversine formula to calculate distance between two lat/lon points\n",
        "def haversine(lat1, lon1, lat2, lon2):\n",
        "    R = 6371e3  # Earth radius in meters\n",
        "    phi1 = np.radians(lat1)\n",
        "    phi2 = np.radians(lat2)\n",
        "    delta_phi = np.radians(lat2 - lat1)\n",
        "    delta_lambda = np.radians(lon2 - lon1)\n",
        "    a = np.sin(delta_phi/2)**2 + np.cos(phi1)*np.cos(phi2)*np.sin(delta_lambda/2)**2\n",
        "    c = 2 * np.arctan2(np.sqrt(a), np.sqrt(1 - a))\n",
        "    return R * c\n",
        "\n",
        "\n",
        "gps_df[\"distance\"] = 0.0\n",
        "gps_df[\"delta_time\"] = 0.0\n",
        "gps_df[\"speed_calc\"] = 0.0\n",
        "gps_df[\"acceleration\"] = 0.0\n",
        "gps_df[\"delta_heading\"] = 0.0\n",
        "\n",
        "for mmsi, group in gps_df.groupby(\"MMSI\"):\n",
        "    group = group.sort_values(\"BaseDateTime\")\n",
        "    group[\"delta_time\"] = group[\"BaseDateTime\"].diff().dt.total_seconds().fillna(1)\n",
        "    group[\"distance\"] = haversine(group[\"LAT\"].shift(), group[\"LON\"].shift(), group[\"LAT\"], group[\"LON\"]).fillna(0)\n",
        "    group[\"speed_calc\"] = group[\"distance\"] / group[\"delta_time\"]  # m/s\n",
        "    group[\"acceleration\"] = group[\"speed_calc\"].diff() / group[\"delta_time\"]\n",
        "    group[\"delta_heading\"] = group[\"Heading\"].diff().fillna(0)\n",
        "\n",
        "    gps_df.loc[group.index, [\"distance\", \"delta_time\", \"speed_calc\", \"acceleration\", \"delta_heading\"]] = \\\n",
        "        group[[\"distance\", \"delta_time\", \"speed_calc\", \"acceleration\", \"delta_heading\"]]\n",
        "\n",
        "\n",
        "gps_df[\"speed_ma\"] = gps_df.groupby(\"MMSI\")[\"speed_calc\"].transform(lambda x: x.rolling(5, min_periods=1).mean())\n",
        "gps_df[\"acceleration_ma\"] = gps_df.groupby(\"MMSI\")[\"acceleration\"].transform(lambda x: x.rolling(5, min_periods=1).mean())\n",
        "gps_df[\"delta_heading_ma\"] = gps_df.groupby(\"MMSI\")[\"delta_heading\"].transform(lambda x: x.rolling(5, min_periods=1).mean())\n",
        "\n",
        "\n",
        "gps_df[\"LAT_pred\"] = gps_df[\"LAT\"].shift() + (gps_df[\"LAT\"].diff() / gps_df[\"delta_time\"]).fillna(0) * gps_df[\"delta_time\"]\n",
        "gps_df[\"LON_pred\"] = gps_df[\"LON\"].shift() + (gps_df[\"LON\"].diff() / gps_df[\"delta_time\"]).fillna(0) * gps_df[\"delta_time\"]\n",
        "\n",
        "gps_df[\"prediction_error\"] = np.sqrt((gps_df[\"LAT_pred\"] - gps_df[\"LAT\"])**2 + (gps_df[\"LON_pred\"] - gps_df[\"LON\"])**2)\n",
        "\n",
        "features = [\n",
        "    \"MMSI\", \"BaseDateTime\", \"LAT\", \"LON\", \"SOG\", \"COG\", \"Heading\",\n",
        "    \"speed_calc\", \"acceleration\", \"delta_heading\",\n",
        "    \"speed_ma\", \"acceleration_ma\", \"delta_heading_ma\",\n",
        "    \"LAT_pred\", \"LON_pred\", \"prediction_error\"\n",
        "]\n",
        "df_final = gps_df[features]\n",
        "\n",
        "\n",
        "df_final.to_csv(\"AIS_features_ready.csv\", index=False)\n",
        "\n",
        "print(\"Processed dataset ready for AI model!\")\n",
        "print(df_final.head())\n"
      ],
      "metadata": {
        "colab": {
          "base_uri": "https://localhost:8080/"
        },
        "id": "8IXJrFxh-nGx",
        "outputId": "6b4b24cf-f75e-4044-b57c-426179fa1c87"
      },
      "execution_count": null,
      "outputs": [
        {
          "output_type": "stream",
          "name": "stdout",
          "text": [
            "Processed dataset ready for AI model!\n",
            "         MMSI        BaseDateTime       LAT        LON  SOG    COG  Heading  \\\n",
            "3216   270995 2020-01-01 00:00:03  35.09744  -90.10038  0.0  245.1    511.0   \n",
            "5326   507027 2020-01-01 00:00:08  37.00643  -76.25625  0.1  308.3    511.0   \n",
            "374   1056261 2020-01-01 00:00:12  26.11822  -80.14813  0.0  248.4    511.0   \n",
            "922   1193046 2020-01-01 00:00:08  32.68644 -117.13303  0.0    0.0    511.0   \n",
            "336   3669999 2020-01-01 00:00:01  33.72340 -118.28068  0.1  258.5    511.0   \n",
            "\n",
            "      speed_calc  acceleration  delta_heading  speed_ma  acceleration_ma  \\\n",
            "3216         0.0           NaN            0.0       0.0              NaN   \n",
            "5326         0.0           NaN            0.0       0.0              NaN   \n",
            "374          0.0           NaN            0.0       0.0              NaN   \n",
            "922          0.0           NaN            0.0       0.0              NaN   \n",
            "336          0.0           NaN            0.0       0.0              NaN   \n",
            "\n",
            "      delta_heading_ma  LAT_pred   LON_pred  prediction_error  \n",
            "3216               0.0       NaN        NaN               NaN  \n",
            "5326               0.0  37.00643  -76.25625               0.0  \n",
            "374                0.0  26.11822  -80.14813               0.0  \n",
            "922                0.0  32.68644 -117.13303               0.0  \n",
            "336                0.0  33.72340 -118.28068               0.0  \n"
          ]
        }
      ]
    },
    {
      "cell_type": "code",
      "source": [],
      "metadata": {
        "id": "Zz243zjwoNMs"
      },
      "execution_count": null,
      "outputs": []
    }
  ]
}